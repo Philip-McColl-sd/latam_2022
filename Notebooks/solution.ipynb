{
 "cells": [
  {
   "cell_type": "markdown",
   "metadata": {},
   "source": [
    "# Librerias a utilizarse en el Notebook"
   ]
  },
  {
   "cell_type": "code",
   "execution_count": 1,
   "metadata": {},
   "outputs": [
    {
     "name": "stdout",
     "output_type": "stream",
     "text": [
      "La ruta del programa es:  d:\\LATAM/\n"
     ]
    }
   ],
   "source": [
    "# Modulos para autoreferenciar el programa (que consiga la ruta contenedora en cualquier computador que se quiera ejecutar)\n",
    "import sys\n",
    "sys.path.append('..')\n",
    "from path_ import abs_path\n",
    "# Las funciones se crearon en el archivo data_manager en la carpeta src ocupando POO por motivos de orden\n",
    "from src.data_manager import DataManager\n",
    "# Modulos complementarios ()\n",
    "import datetime as dt\n",
    "import pandas as pd\n",
    "from collections import Counter\n",
    "import statistics as stats\n",
    "\n",
    "# Modulos para graficar de datos\n",
    "import numpy as np\n",
    "import matplotlib.pyplot as plt\n",
    "\n",
    "print('La ruta del programa es: ', abs_path)"
   ]
  },
  {
   "cell_type": "markdown",
   "metadata": {},
   "source": [
    "# Desarrollo del desafio"
   ]
  },
  {
   "cell_type": "markdown",
   "metadata": {},
   "source": [
    "## Formateo y preprocesamiento de los datos"
   ]
  },
  {
   "cell_type": "markdown",
   "metadata": {},
   "source": [
    "Por motivos de orden se programó el módulo \"data_manager\" en un archivo .py aparte, en el mismo se encuentra descrito el método según conforme a la notación numpy para la descripción de clases."
   ]
  },
  {
   "cell_type": "code",
   "execution_count": 2,
   "metadata": {},
   "outputs": [
    {
     "name": "stderr",
     "output_type": "stream",
     "text": [
      "d:\\LATAM\\Notebooks\\..\\src\\data_manager.py:45: DtypeWarning: Columns (1,6) have mixed types. Specify dtype option on import or set low_memory=False.\n",
      "  self.df=pd.read_csv(abs_path+\"dataset_SCL.csv\", sep=',')\n"
     ]
    }
   ],
   "source": [
    "data=DataManager()\n",
    "data.format()"
   ]
  },
  {
   "cell_type": "code",
   "execution_count": 3,
   "metadata": {},
   "outputs": [
    {
     "data": {
      "text/html": [
       "<div>\n",
       "<style scoped>\n",
       "    .dataframe tbody tr th:only-of-type {\n",
       "        vertical-align: middle;\n",
       "    }\n",
       "\n",
       "    .dataframe tbody tr th {\n",
       "        vertical-align: top;\n",
       "    }\n",
       "\n",
       "    .dataframe thead th {\n",
       "        text-align: right;\n",
       "    }\n",
       "</style>\n",
       "<table border=\"1\" class=\"dataframe\">\n",
       "  <thead>\n",
       "    <tr style=\"text-align: right;\">\n",
       "      <th></th>\n",
       "      <th>Fecha-I</th>\n",
       "      <th>Vlo-I</th>\n",
       "      <th>Ori-I</th>\n",
       "      <th>Des-I</th>\n",
       "      <th>Emp-I</th>\n",
       "      <th>Fecha-O</th>\n",
       "      <th>Vlo-O</th>\n",
       "      <th>Ori-O</th>\n",
       "      <th>Des-O</th>\n",
       "      <th>Emp-O</th>\n",
       "      <th>...</th>\n",
       "      <th>SIGLADES</th>\n",
       "      <th>dif_min</th>\n",
       "      <th>Hora-O</th>\n",
       "      <th>Hora-I</th>\n",
       "      <th>Anno-I</th>\n",
       "      <th>Mes-I</th>\n",
       "      <th>Dia-I</th>\n",
       "      <th>Anno-O</th>\n",
       "      <th>Mes-O</th>\n",
       "      <th>Dia-O</th>\n",
       "    </tr>\n",
       "  </thead>\n",
       "  <tbody>\n",
       "    <tr>\n",
       "      <th>0</th>\n",
       "      <td>2017-01-01</td>\n",
       "      <td>226</td>\n",
       "      <td>SCEL</td>\n",
       "      <td>KMIA</td>\n",
       "      <td>AAL</td>\n",
       "      <td>2017-01-01</td>\n",
       "      <td>226</td>\n",
       "      <td>SCEL</td>\n",
       "      <td>KMIA</td>\n",
       "      <td>AAL</td>\n",
       "      <td>...</td>\n",
       "      <td>Miami</td>\n",
       "      <td>3.0</td>\n",
       "      <td>23:33:00</td>\n",
       "      <td>23:30:00</td>\n",
       "      <td>2017</td>\n",
       "      <td>1</td>\n",
       "      <td>1</td>\n",
       "      <td>2017</td>\n",
       "      <td>1</td>\n",
       "      <td>1</td>\n",
       "    </tr>\n",
       "    <tr>\n",
       "      <th>1</th>\n",
       "      <td>2017-01-02</td>\n",
       "      <td>226</td>\n",
       "      <td>SCEL</td>\n",
       "      <td>KMIA</td>\n",
       "      <td>AAL</td>\n",
       "      <td>2017-01-02</td>\n",
       "      <td>226</td>\n",
       "      <td>SCEL</td>\n",
       "      <td>KMIA</td>\n",
       "      <td>AAL</td>\n",
       "      <td>...</td>\n",
       "      <td>Miami</td>\n",
       "      <td>9.0</td>\n",
       "      <td>23:39:00</td>\n",
       "      <td>23:30:00</td>\n",
       "      <td>2017</td>\n",
       "      <td>1</td>\n",
       "      <td>2</td>\n",
       "      <td>2017</td>\n",
       "      <td>1</td>\n",
       "      <td>2</td>\n",
       "    </tr>\n",
       "    <tr>\n",
       "      <th>2</th>\n",
       "      <td>2017-01-03</td>\n",
       "      <td>226</td>\n",
       "      <td>SCEL</td>\n",
       "      <td>KMIA</td>\n",
       "      <td>AAL</td>\n",
       "      <td>2017-01-03</td>\n",
       "      <td>226</td>\n",
       "      <td>SCEL</td>\n",
       "      <td>KMIA</td>\n",
       "      <td>AAL</td>\n",
       "      <td>...</td>\n",
       "      <td>Miami</td>\n",
       "      <td>9.0</td>\n",
       "      <td>23:39:00</td>\n",
       "      <td>23:30:00</td>\n",
       "      <td>2017</td>\n",
       "      <td>1</td>\n",
       "      <td>3</td>\n",
       "      <td>2017</td>\n",
       "      <td>1</td>\n",
       "      <td>3</td>\n",
       "    </tr>\n",
       "    <tr>\n",
       "      <th>3</th>\n",
       "      <td>2017-01-04</td>\n",
       "      <td>226</td>\n",
       "      <td>SCEL</td>\n",
       "      <td>KMIA</td>\n",
       "      <td>AAL</td>\n",
       "      <td>2017-01-04</td>\n",
       "      <td>226</td>\n",
       "      <td>SCEL</td>\n",
       "      <td>KMIA</td>\n",
       "      <td>AAL</td>\n",
       "      <td>...</td>\n",
       "      <td>Miami</td>\n",
       "      <td>3.0</td>\n",
       "      <td>23:33:00</td>\n",
       "      <td>23:30:00</td>\n",
       "      <td>2017</td>\n",
       "      <td>1</td>\n",
       "      <td>4</td>\n",
       "      <td>2017</td>\n",
       "      <td>1</td>\n",
       "      <td>4</td>\n",
       "    </tr>\n",
       "    <tr>\n",
       "      <th>4</th>\n",
       "      <td>2017-01-05</td>\n",
       "      <td>226</td>\n",
       "      <td>SCEL</td>\n",
       "      <td>KMIA</td>\n",
       "      <td>AAL</td>\n",
       "      <td>2017-01-05</td>\n",
       "      <td>226</td>\n",
       "      <td>SCEL</td>\n",
       "      <td>KMIA</td>\n",
       "      <td>AAL</td>\n",
       "      <td>...</td>\n",
       "      <td>Miami</td>\n",
       "      <td>-2.0</td>\n",
       "      <td>23:28:00</td>\n",
       "      <td>23:30:00</td>\n",
       "      <td>2017</td>\n",
       "      <td>1</td>\n",
       "      <td>5</td>\n",
       "      <td>2017</td>\n",
       "      <td>1</td>\n",
       "      <td>5</td>\n",
       "    </tr>\n",
       "  </tbody>\n",
       "</table>\n",
       "<p>5 rows × 27 columns</p>\n",
       "</div>"
      ],
      "text/plain": [
       "      Fecha-I Vlo-I Ori-I Des-I Emp-I     Fecha-O Vlo-O Ori-O Des-O Emp-O  \\\n",
       "0  2017-01-01   226  SCEL  KMIA   AAL  2017-01-01   226  SCEL  KMIA   AAL   \n",
       "1  2017-01-02   226  SCEL  KMIA   AAL  2017-01-02   226  SCEL  KMIA   AAL   \n",
       "2  2017-01-03   226  SCEL  KMIA   AAL  2017-01-03   226  SCEL  KMIA   AAL   \n",
       "3  2017-01-04   226  SCEL  KMIA   AAL  2017-01-04   226  SCEL  KMIA   AAL   \n",
       "4  2017-01-05   226  SCEL  KMIA   AAL  2017-01-05   226  SCEL  KMIA   AAL   \n",
       "\n",
       "   ...  SIGLADES  dif_min    Hora-O    Hora-I Anno-I Mes-I Dia-I Anno-O  \\\n",
       "0  ...     Miami      3.0  23:33:00  23:30:00   2017     1     1   2017   \n",
       "1  ...     Miami      9.0  23:39:00  23:30:00   2017     1     2   2017   \n",
       "2  ...     Miami      9.0  23:39:00  23:30:00   2017     1     3   2017   \n",
       "3  ...     Miami      3.0  23:33:00  23:30:00   2017     1     4   2017   \n",
       "4  ...     Miami     -2.0  23:28:00  23:30:00   2017     1     5   2017   \n",
       "\n",
       "   Mes-O Dia-O  \n",
       "0      1     1  \n",
       "1      1     2  \n",
       "2      1     3  \n",
       "3      1     4  \n",
       "4      1     5  \n",
       "\n",
       "[5 rows x 27 columns]"
      ]
     },
     "execution_count": 3,
     "metadata": {},
     "output_type": "execute_result"
    }
   ],
   "source": [
    "data.df.head()"
   ]
  },
  {
   "cell_type": "markdown",
   "metadata": {},
   "source": [
    "## Generacion del DataFrame con la columnas requeridas en el Challenge"
   ]
  },
  {
   "cell_type": "code",
   "execution_count": 4,
   "metadata": {},
   "outputs": [],
   "source": [
    "data.latam_petitions()"
   ]
  },
  {
   "cell_type": "code",
   "execution_count": 5,
   "metadata": {},
   "outputs": [
    {
     "data": {
      "text/html": [
       "<div>\n",
       "<style scoped>\n",
       "    .dataframe tbody tr th:only-of-type {\n",
       "        vertical-align: middle;\n",
       "    }\n",
       "\n",
       "    .dataframe tbody tr th {\n",
       "        vertical-align: top;\n",
       "    }\n",
       "\n",
       "    .dataframe thead th {\n",
       "        text-align: right;\n",
       "    }\n",
       "</style>\n",
       "<table border=\"1\" class=\"dataframe\">\n",
       "  <thead>\n",
       "    <tr style=\"text-align: right;\">\n",
       "      <th></th>\n",
       "      <th>Fecha-I</th>\n",
       "      <th>Vlo-I</th>\n",
       "      <th>Ori-I</th>\n",
       "      <th>Des-I</th>\n",
       "      <th>Emp-I</th>\n",
       "      <th>Fecha-O</th>\n",
       "      <th>Vlo-O</th>\n",
       "      <th>Ori-O</th>\n",
       "      <th>Des-O</th>\n",
       "      <th>Emp-O</th>\n",
       "      <th>DIA</th>\n",
       "      <th>MES</th>\n",
       "      <th>AÑO</th>\n",
       "      <th>DIANOM</th>\n",
       "      <th>TIPOVUELO</th>\n",
       "      <th>OPERA</th>\n",
       "      <th>SIGLAORI</th>\n",
       "      <th>SIGLADES</th>\n",
       "    </tr>\n",
       "  </thead>\n",
       "  <tbody>\n",
       "    <tr>\n",
       "      <th>0</th>\n",
       "      <td>2017-01-01 23:30:00</td>\n",
       "      <td>226</td>\n",
       "      <td>SCEL</td>\n",
       "      <td>KMIA</td>\n",
       "      <td>AAL</td>\n",
       "      <td>2017-01-01 23:33:00</td>\n",
       "      <td>226</td>\n",
       "      <td>SCEL</td>\n",
       "      <td>KMIA</td>\n",
       "      <td>AAL</td>\n",
       "      <td>1</td>\n",
       "      <td>1</td>\n",
       "      <td>2017</td>\n",
       "      <td>Domingo</td>\n",
       "      <td>I</td>\n",
       "      <td>American Airlines</td>\n",
       "      <td>Santiago</td>\n",
       "      <td>Miami</td>\n",
       "    </tr>\n",
       "    <tr>\n",
       "      <th>1</th>\n",
       "      <td>2017-01-02 23:30:00</td>\n",
       "      <td>226</td>\n",
       "      <td>SCEL</td>\n",
       "      <td>KMIA</td>\n",
       "      <td>AAL</td>\n",
       "      <td>2017-01-02 23:39:00</td>\n",
       "      <td>226</td>\n",
       "      <td>SCEL</td>\n",
       "      <td>KMIA</td>\n",
       "      <td>AAL</td>\n",
       "      <td>2</td>\n",
       "      <td>1</td>\n",
       "      <td>2017</td>\n",
       "      <td>Lunes</td>\n",
       "      <td>I</td>\n",
       "      <td>American Airlines</td>\n",
       "      <td>Santiago</td>\n",
       "      <td>Miami</td>\n",
       "    </tr>\n",
       "    <tr>\n",
       "      <th>2</th>\n",
       "      <td>2017-01-03 23:30:00</td>\n",
       "      <td>226</td>\n",
       "      <td>SCEL</td>\n",
       "      <td>KMIA</td>\n",
       "      <td>AAL</td>\n",
       "      <td>2017-01-03 23:39:00</td>\n",
       "      <td>226</td>\n",
       "      <td>SCEL</td>\n",
       "      <td>KMIA</td>\n",
       "      <td>AAL</td>\n",
       "      <td>3</td>\n",
       "      <td>1</td>\n",
       "      <td>2017</td>\n",
       "      <td>Martes</td>\n",
       "      <td>I</td>\n",
       "      <td>American Airlines</td>\n",
       "      <td>Santiago</td>\n",
       "      <td>Miami</td>\n",
       "    </tr>\n",
       "    <tr>\n",
       "      <th>3</th>\n",
       "      <td>2017-01-04 23:30:00</td>\n",
       "      <td>226</td>\n",
       "      <td>SCEL</td>\n",
       "      <td>KMIA</td>\n",
       "      <td>AAL</td>\n",
       "      <td>2017-01-04 23:33:00</td>\n",
       "      <td>226</td>\n",
       "      <td>SCEL</td>\n",
       "      <td>KMIA</td>\n",
       "      <td>AAL</td>\n",
       "      <td>4</td>\n",
       "      <td>1</td>\n",
       "      <td>2017</td>\n",
       "      <td>Miercoles</td>\n",
       "      <td>I</td>\n",
       "      <td>American Airlines</td>\n",
       "      <td>Santiago</td>\n",
       "      <td>Miami</td>\n",
       "    </tr>\n",
       "    <tr>\n",
       "      <th>4</th>\n",
       "      <td>2017-01-05 23:30:00</td>\n",
       "      <td>226</td>\n",
       "      <td>SCEL</td>\n",
       "      <td>KMIA</td>\n",
       "      <td>AAL</td>\n",
       "      <td>2017-01-05 23:28:00</td>\n",
       "      <td>226</td>\n",
       "      <td>SCEL</td>\n",
       "      <td>KMIA</td>\n",
       "      <td>AAL</td>\n",
       "      <td>5</td>\n",
       "      <td>1</td>\n",
       "      <td>2017</td>\n",
       "      <td>Jueves</td>\n",
       "      <td>I</td>\n",
       "      <td>American Airlines</td>\n",
       "      <td>Santiago</td>\n",
       "      <td>Miami</td>\n",
       "    </tr>\n",
       "    <tr>\n",
       "      <th>...</th>\n",
       "      <td>...</td>\n",
       "      <td>...</td>\n",
       "      <td>...</td>\n",
       "      <td>...</td>\n",
       "      <td>...</td>\n",
       "      <td>...</td>\n",
       "      <td>...</td>\n",
       "      <td>...</td>\n",
       "      <td>...</td>\n",
       "      <td>...</td>\n",
       "      <td>...</td>\n",
       "      <td>...</td>\n",
       "      <td>...</td>\n",
       "      <td>...</td>\n",
       "      <td>...</td>\n",
       "      <td>...</td>\n",
       "      <td>...</td>\n",
       "      <td>...</td>\n",
       "    </tr>\n",
       "    <tr>\n",
       "      <th>68201</th>\n",
       "      <td>2017-12-22 14:55:00</td>\n",
       "      <td>400</td>\n",
       "      <td>SCEL</td>\n",
       "      <td>SPJC</td>\n",
       "      <td>JAT</td>\n",
       "      <td>2017-12-22 15:41:00</td>\n",
       "      <td>400.0</td>\n",
       "      <td>SCEL</td>\n",
       "      <td>SPJC</td>\n",
       "      <td>JAT</td>\n",
       "      <td>22</td>\n",
       "      <td>12</td>\n",
       "      <td>2017</td>\n",
       "      <td>Viernes</td>\n",
       "      <td>I</td>\n",
       "      <td>JetSmart SPA</td>\n",
       "      <td>Santiago</td>\n",
       "      <td>Lima</td>\n",
       "    </tr>\n",
       "    <tr>\n",
       "      <th>68202</th>\n",
       "      <td>2017-12-25 14:55:00</td>\n",
       "      <td>400</td>\n",
       "      <td>SCEL</td>\n",
       "      <td>SPJC</td>\n",
       "      <td>JAT</td>\n",
       "      <td>2017-12-25 15:11:00</td>\n",
       "      <td>400.0</td>\n",
       "      <td>SCEL</td>\n",
       "      <td>SPJC</td>\n",
       "      <td>JAT</td>\n",
       "      <td>25</td>\n",
       "      <td>12</td>\n",
       "      <td>2017</td>\n",
       "      <td>Lunes</td>\n",
       "      <td>I</td>\n",
       "      <td>JetSmart SPA</td>\n",
       "      <td>Santiago</td>\n",
       "      <td>Lima</td>\n",
       "    </tr>\n",
       "    <tr>\n",
       "      <th>68203</th>\n",
       "      <td>2017-12-27 14:55:00</td>\n",
       "      <td>400</td>\n",
       "      <td>SCEL</td>\n",
       "      <td>SPJC</td>\n",
       "      <td>JAT</td>\n",
       "      <td>2017-12-27 15:35:00</td>\n",
       "      <td>400.0</td>\n",
       "      <td>SCEL</td>\n",
       "      <td>SPJC</td>\n",
       "      <td>JAT</td>\n",
       "      <td>27</td>\n",
       "      <td>12</td>\n",
       "      <td>2017</td>\n",
       "      <td>Miercoles</td>\n",
       "      <td>I</td>\n",
       "      <td>JetSmart SPA</td>\n",
       "      <td>Santiago</td>\n",
       "      <td>Lima</td>\n",
       "    </tr>\n",
       "    <tr>\n",
       "      <th>68204</th>\n",
       "      <td>2017-12-29 14:55:00</td>\n",
       "      <td>400</td>\n",
       "      <td>SCEL</td>\n",
       "      <td>SPJC</td>\n",
       "      <td>JAT</td>\n",
       "      <td>2017-12-29 15:08:00</td>\n",
       "      <td>400.0</td>\n",
       "      <td>SCEL</td>\n",
       "      <td>SPJC</td>\n",
       "      <td>JAT</td>\n",
       "      <td>29</td>\n",
       "      <td>12</td>\n",
       "      <td>2017</td>\n",
       "      <td>Viernes</td>\n",
       "      <td>I</td>\n",
       "      <td>JetSmart SPA</td>\n",
       "      <td>Santiago</td>\n",
       "      <td>Lima</td>\n",
       "    </tr>\n",
       "    <tr>\n",
       "      <th>68205</th>\n",
       "      <td>2017-12-31 14:55:00</td>\n",
       "      <td>400</td>\n",
       "      <td>SCEL</td>\n",
       "      <td>SPJC</td>\n",
       "      <td>JAT</td>\n",
       "      <td>2017-12-31 15:04:00</td>\n",
       "      <td>400.0</td>\n",
       "      <td>SCEL</td>\n",
       "      <td>SPJC</td>\n",
       "      <td>JAT</td>\n",
       "      <td>31</td>\n",
       "      <td>12</td>\n",
       "      <td>2017</td>\n",
       "      <td>Domingo</td>\n",
       "      <td>I</td>\n",
       "      <td>JetSmart SPA</td>\n",
       "      <td>Santiago</td>\n",
       "      <td>Lima</td>\n",
       "    </tr>\n",
       "  </tbody>\n",
       "</table>\n",
       "<p>68206 rows × 18 columns</p>\n",
       "</div>"
      ],
      "text/plain": [
       "                   Fecha-I Vlo-I Ori-I Des-I Emp-I              Fecha-O  \\\n",
       "0      2017-01-01 23:30:00   226  SCEL  KMIA   AAL  2017-01-01 23:33:00   \n",
       "1      2017-01-02 23:30:00   226  SCEL  KMIA   AAL  2017-01-02 23:39:00   \n",
       "2      2017-01-03 23:30:00   226  SCEL  KMIA   AAL  2017-01-03 23:39:00   \n",
       "3      2017-01-04 23:30:00   226  SCEL  KMIA   AAL  2017-01-04 23:33:00   \n",
       "4      2017-01-05 23:30:00   226  SCEL  KMIA   AAL  2017-01-05 23:28:00   \n",
       "...                    ...   ...   ...   ...   ...                  ...   \n",
       "68201  2017-12-22 14:55:00   400  SCEL  SPJC   JAT  2017-12-22 15:41:00   \n",
       "68202  2017-12-25 14:55:00   400  SCEL  SPJC   JAT  2017-12-25 15:11:00   \n",
       "68203  2017-12-27 14:55:00   400  SCEL  SPJC   JAT  2017-12-27 15:35:00   \n",
       "68204  2017-12-29 14:55:00   400  SCEL  SPJC   JAT  2017-12-29 15:08:00   \n",
       "68205  2017-12-31 14:55:00   400  SCEL  SPJC   JAT  2017-12-31 15:04:00   \n",
       "\n",
       "       Vlo-O Ori-O Des-O Emp-O  DIA  MES   AÑO     DIANOM TIPOVUELO  \\\n",
       "0        226  SCEL  KMIA   AAL    1    1  2017    Domingo         I   \n",
       "1        226  SCEL  KMIA   AAL    2    1  2017      Lunes         I   \n",
       "2        226  SCEL  KMIA   AAL    3    1  2017     Martes         I   \n",
       "3        226  SCEL  KMIA   AAL    4    1  2017  Miercoles         I   \n",
       "4        226  SCEL  KMIA   AAL    5    1  2017     Jueves         I   \n",
       "...      ...   ...   ...   ...  ...  ...   ...        ...       ...   \n",
       "68201  400.0  SCEL  SPJC   JAT   22   12  2017    Viernes         I   \n",
       "68202  400.0  SCEL  SPJC   JAT   25   12  2017      Lunes         I   \n",
       "68203  400.0  SCEL  SPJC   JAT   27   12  2017  Miercoles         I   \n",
       "68204  400.0  SCEL  SPJC   JAT   29   12  2017    Viernes         I   \n",
       "68205  400.0  SCEL  SPJC   JAT   31   12  2017    Domingo         I   \n",
       "\n",
       "                   OPERA  SIGLAORI SIGLADES  \n",
       "0      American Airlines  Santiago    Miami  \n",
       "1      American Airlines  Santiago    Miami  \n",
       "2      American Airlines  Santiago    Miami  \n",
       "3      American Airlines  Santiago    Miami  \n",
       "4      American Airlines  Santiago    Miami  \n",
       "...                  ...       ...      ...  \n",
       "68201       JetSmart SPA  Santiago     Lima  \n",
       "68202       JetSmart SPA  Santiago     Lima  \n",
       "68203       JetSmart SPA  Santiago     Lima  \n",
       "68204       JetSmart SPA  Santiago     Lima  \n",
       "68205       JetSmart SPA  Santiago     Lima  \n",
       "\n",
       "[68206 rows x 18 columns]"
      ]
     },
     "execution_count": 5,
     "metadata": {},
     "output_type": "execute_result"
    }
   ],
   "source": [
    "data.df_original"
   ]
  },
  {
   "cell_type": "markdown",
   "metadata": {},
   "source": [
    "A continuación se exporta el archivo \"syntetic_features.csv\""
   ]
  },
  {
   "cell_type": "code",
   "execution_count": 6,
   "metadata": {},
   "outputs": [
    {
     "data": {
      "text/html": [
       "<div>\n",
       "<style scoped>\n",
       "    .dataframe tbody tr th:only-of-type {\n",
       "        vertical-align: middle;\n",
       "    }\n",
       "\n",
       "    .dataframe tbody tr th {\n",
       "        vertical-align: top;\n",
       "    }\n",
       "\n",
       "    .dataframe thead th {\n",
       "        text-align: right;\n",
       "    }\n",
       "</style>\n",
       "<table border=\"1\" class=\"dataframe\">\n",
       "  <thead>\n",
       "    <tr style=\"text-align: right;\">\n",
       "      <th></th>\n",
       "      <th>Fecha-I</th>\n",
       "      <th>Vlo-I</th>\n",
       "      <th>Ori-I</th>\n",
       "      <th>Des-I</th>\n",
       "      <th>Emp-I</th>\n",
       "      <th>Fecha-O</th>\n",
       "      <th>Vlo-O</th>\n",
       "      <th>Ori-O</th>\n",
       "      <th>Des-O</th>\n",
       "      <th>Emp-O</th>\n",
       "      <th>...</th>\n",
       "      <th>AÑO</th>\n",
       "      <th>DIANOM</th>\n",
       "      <th>TIPOVUELO</th>\n",
       "      <th>OPERA</th>\n",
       "      <th>SIGLAORI</th>\n",
       "      <th>SIGLADES</th>\n",
       "      <th>dif_min</th>\n",
       "      <th>temporada_alta</th>\n",
       "      <th>atraso_15</th>\n",
       "      <th>periodo_dia</th>\n",
       "    </tr>\n",
       "  </thead>\n",
       "  <tbody>\n",
       "    <tr>\n",
       "      <th>0</th>\n",
       "      <td>2017-01-01 23:30:00</td>\n",
       "      <td>226</td>\n",
       "      <td>SCEL</td>\n",
       "      <td>KMIA</td>\n",
       "      <td>AAL</td>\n",
       "      <td>2017-01-01 23:33:00</td>\n",
       "      <td>226</td>\n",
       "      <td>SCEL</td>\n",
       "      <td>KMIA</td>\n",
       "      <td>AAL</td>\n",
       "      <td>...</td>\n",
       "      <td>2017</td>\n",
       "      <td>Domingo</td>\n",
       "      <td>I</td>\n",
       "      <td>American Airlines</td>\n",
       "      <td>Santiago</td>\n",
       "      <td>Miami</td>\n",
       "      <td>3.0</td>\n",
       "      <td>1</td>\n",
       "      <td>0</td>\n",
       "      <td>noche</td>\n",
       "    </tr>\n",
       "    <tr>\n",
       "      <th>1</th>\n",
       "      <td>2017-01-02 23:30:00</td>\n",
       "      <td>226</td>\n",
       "      <td>SCEL</td>\n",
       "      <td>KMIA</td>\n",
       "      <td>AAL</td>\n",
       "      <td>2017-01-02 23:39:00</td>\n",
       "      <td>226</td>\n",
       "      <td>SCEL</td>\n",
       "      <td>KMIA</td>\n",
       "      <td>AAL</td>\n",
       "      <td>...</td>\n",
       "      <td>2017</td>\n",
       "      <td>Lunes</td>\n",
       "      <td>I</td>\n",
       "      <td>American Airlines</td>\n",
       "      <td>Santiago</td>\n",
       "      <td>Miami</td>\n",
       "      <td>9.0</td>\n",
       "      <td>1</td>\n",
       "      <td>0</td>\n",
       "      <td>noche</td>\n",
       "    </tr>\n",
       "    <tr>\n",
       "      <th>2</th>\n",
       "      <td>2017-01-03 23:30:00</td>\n",
       "      <td>226</td>\n",
       "      <td>SCEL</td>\n",
       "      <td>KMIA</td>\n",
       "      <td>AAL</td>\n",
       "      <td>2017-01-03 23:39:00</td>\n",
       "      <td>226</td>\n",
       "      <td>SCEL</td>\n",
       "      <td>KMIA</td>\n",
       "      <td>AAL</td>\n",
       "      <td>...</td>\n",
       "      <td>2017</td>\n",
       "      <td>Martes</td>\n",
       "      <td>I</td>\n",
       "      <td>American Airlines</td>\n",
       "      <td>Santiago</td>\n",
       "      <td>Miami</td>\n",
       "      <td>9.0</td>\n",
       "      <td>1</td>\n",
       "      <td>0</td>\n",
       "      <td>noche</td>\n",
       "    </tr>\n",
       "    <tr>\n",
       "      <th>3</th>\n",
       "      <td>2017-01-04 23:30:00</td>\n",
       "      <td>226</td>\n",
       "      <td>SCEL</td>\n",
       "      <td>KMIA</td>\n",
       "      <td>AAL</td>\n",
       "      <td>2017-01-04 23:33:00</td>\n",
       "      <td>226</td>\n",
       "      <td>SCEL</td>\n",
       "      <td>KMIA</td>\n",
       "      <td>AAL</td>\n",
       "      <td>...</td>\n",
       "      <td>2017</td>\n",
       "      <td>Miercoles</td>\n",
       "      <td>I</td>\n",
       "      <td>American Airlines</td>\n",
       "      <td>Santiago</td>\n",
       "      <td>Miami</td>\n",
       "      <td>3.0</td>\n",
       "      <td>1</td>\n",
       "      <td>0</td>\n",
       "      <td>noche</td>\n",
       "    </tr>\n",
       "    <tr>\n",
       "      <th>4</th>\n",
       "      <td>2017-01-05 23:30:00</td>\n",
       "      <td>226</td>\n",
       "      <td>SCEL</td>\n",
       "      <td>KMIA</td>\n",
       "      <td>AAL</td>\n",
       "      <td>2017-01-05 23:28:00</td>\n",
       "      <td>226</td>\n",
       "      <td>SCEL</td>\n",
       "      <td>KMIA</td>\n",
       "      <td>AAL</td>\n",
       "      <td>...</td>\n",
       "      <td>2017</td>\n",
       "      <td>Jueves</td>\n",
       "      <td>I</td>\n",
       "      <td>American Airlines</td>\n",
       "      <td>Santiago</td>\n",
       "      <td>Miami</td>\n",
       "      <td>-2.0</td>\n",
       "      <td>1</td>\n",
       "      <td>0</td>\n",
       "      <td>noche</td>\n",
       "    </tr>\n",
       "  </tbody>\n",
       "</table>\n",
       "<p>5 rows × 22 columns</p>\n",
       "</div>"
      ],
      "text/plain": [
       "               Fecha-I Vlo-I Ori-I Des-I Emp-I              Fecha-O Vlo-O  \\\n",
       "0  2017-01-01 23:30:00   226  SCEL  KMIA   AAL  2017-01-01 23:33:00   226   \n",
       "1  2017-01-02 23:30:00   226  SCEL  KMIA   AAL  2017-01-02 23:39:00   226   \n",
       "2  2017-01-03 23:30:00   226  SCEL  KMIA   AAL  2017-01-03 23:39:00   226   \n",
       "3  2017-01-04 23:30:00   226  SCEL  KMIA   AAL  2017-01-04 23:33:00   226   \n",
       "4  2017-01-05 23:30:00   226  SCEL  KMIA   AAL  2017-01-05 23:28:00   226   \n",
       "\n",
       "  Ori-O Des-O Emp-O  ...   AÑO     DIANOM  TIPOVUELO              OPERA  \\\n",
       "0  SCEL  KMIA   AAL  ...  2017    Domingo          I  American Airlines   \n",
       "1  SCEL  KMIA   AAL  ...  2017      Lunes          I  American Airlines   \n",
       "2  SCEL  KMIA   AAL  ...  2017     Martes          I  American Airlines   \n",
       "3  SCEL  KMIA   AAL  ...  2017  Miercoles          I  American Airlines   \n",
       "4  SCEL  KMIA   AAL  ...  2017     Jueves          I  American Airlines   \n",
       "\n",
       "   SIGLAORI SIGLADES dif_min temporada_alta  atraso_15  periodo_dia  \n",
       "0  Santiago    Miami     3.0              1          0        noche  \n",
       "1  Santiago    Miami     9.0              1          0        noche  \n",
       "2  Santiago    Miami     9.0              1          0        noche  \n",
       "3  Santiago    Miami     3.0              1          0        noche  \n",
       "4  Santiago    Miami    -2.0              1          0        noche  \n",
       "\n",
       "[5 rows x 22 columns]"
      ]
     },
     "execution_count": 6,
     "metadata": {},
     "output_type": "execute_result"
    }
   ],
   "source": [
    "data.df_latam.to_csv(abs_path+'synthetic_features.csv')\n",
    "data.df_latam.head()"
   ]
  },
  {
   "cell_type": "markdown",
   "metadata": {},
   "source": [
    "# Composición de la tasa de atraso"
   ]
  },
  {
   "cell_type": "markdown",
   "metadata": {},
   "source": [
    "Se investigó si existía algun termino técnico para \"tasa de atraso\" pero no se encontró nada, por ende, se interpretará como tasa de atraso el atraso total por destino, aerolínea, mes del año, día de la semana, temporada, tipo de vuelo. Dividido por el numero total de vuelo en cada opcion de las categorías anteriormente mencionadas. Dicho de otra manera, el atraso medio y no el atraso total. Esto ya que, por ejemplo, si se analizan los atrasos por aerolinea, naturalmente hay aerolineas que tienen mayor cantidad de vuelos y por ende acumularan mas retraso aunque por vuelo se atracen menos. Esto sirve para realizar el análisis: ¿Qué variables esperarías que más influyeran en predecir atrasos?\n",
    "Se utilizarán los atrasos positivos para este análisis ya que estos son realmente los atrasos que se supone se quieren evitar. Correspondería realizar un estudio por separado de los retrazos negativos de ser pertinente.[1]"
   ]
  },
  {
   "cell_type": "code",
   "execution_count": 7,
   "metadata": {},
   "outputs": [],
   "source": [
    "def mean_grouped(df,col_by):\n",
    "    pos_delay_df = df[df['dif_min']>0] # Solo se consideran los retrasos positivos.\n",
    "    return pos_delay_df.groupby(by=col_by)[\"dif_min\"].mean() # se obtiene el valor medio de los atrasos por lo mencionado anteriormente."
   ]
  },
  {
   "cell_type": "markdown",
   "metadata": {},
   "source": [
    "A continuación la función delay_rate_plot se creó para facilitar el analisis que se pide de la composición de la tasa de atraso."
   ]
  },
  {
   "cell_type": "code",
   "execution_count": 8,
   "metadata": {},
   "outputs": [],
   "source": [
    "def delay_rate_plot(df,column, label_x, label_y, title, drop=[], label_replace_dict = {}):\n",
    "    global keys\n",
    "    global values\n",
    "    sum_group = mean_grouped(df,column)\n",
    "    keys = list(sum_group.keys())\n",
    "    values = list(sum_group.values)\n",
    "    for i in drop:\n",
    "        ind = keys.index(i)\n",
    "        keys.pop(ind)\n",
    "        values.pop(ind)\n",
    "    for i in list(label_replace_dict.keys()):\n",
    "        keys[keys.index(i)] = label_replace_dict[i]\n",
    "    fig = plt.figure(figsize = (20, 5))\n",
    "    plt.bar(keys, values, color ='blue',width = 1)\n",
    "    plt.xlabel(label_x)\n",
    "    plt.xticks(rotation=45)\n",
    "    plt.ylabel(label_y)\n",
    "    plt.title(title)\n",
    "    return plt.show()\n",
    "    "
   ]
  },
  {
   "cell_type": "code",
   "execution_count": 9,
   "metadata": {},
   "outputs": [],
   "source": [
    "def get_perc_dif_to_mean(keys,values,key):\n",
    "    val = values[keys.index(key)]\n",
    "    mean_val = stats.mean(values)\n",
    "    return 100*((val-mean_val)/mean_val)"
   ]
  },
  {
   "cell_type": "markdown",
   "metadata": {},
   "source": [
    "## Por destino"
   ]
  },
  {
   "cell_type": "code",
   "execution_count": 10,
   "metadata": {},
   "outputs": [
    {
     "data": {
      "image/png": "[encoded data removed]",
      "text/plain": [
       "<Figure size 1440x360 with 1 Axes>"
      ]
     },
     "metadata": {
      "needs_background": "light"
     },
     "output_type": "display_data"
    }
   ],
   "source": [
    "delay_rate_plot(data.df_latam,\"Des-O\",\"Destinos\",\"Tasa de atraso [min]\",\"Tasa de atraso por destino\")"
   ]
  },
  {
   "cell_type": "code",
   "execution_count": 11,
   "metadata": {},
   "outputs": [
    {
     "data": {
      "text/plain": [
       "Counter({'KMIA': 1016,\n",
       "         'KDFW': 357,\n",
       "         'SAEZ': 3241,\n",
       "         'CYYZ': 283,\n",
       "         'LFPG': 359,\n",
       "         'MMMX': 700,\n",
       "         'SABE': 3094,\n",
       "         'SKBO': 1604,\n",
       "         'LIRF': 259,\n",
       "         'EGLL': 205,\n",
       "         'MPTO': 1850,\n",
       "         'KATL': 358,\n",
       "         'SBGR': 3569,\n",
       "         'SBGL': 1435,\n",
       "         'SBFL': 162,\n",
       "         'LEMD': 894,\n",
       "         'SPJC': 5270,\n",
       "         'YSSY': 194,\n",
       "         'KIAH': 334,\n",
       "         'SGAS': 232,\n",
       "         'SBFI': 2,\n",
       "         'SCTE': 4357,\n",
       "         'SCCI': 2105,\n",
       "         'SCNT': 79,\n",
       "         'SCBA': 839,\n",
       "         'SCQP': 2589,\n",
       "         'SCVD': 753,\n",
       "         'SCIE': 3993,\n",
       "         'SCSE': 2410,\n",
       "         'SCAT': 1780,\n",
       "         'SCCF': 5146,\n",
       "         'SCFA': 5786,\n",
       "         'SCDA': 3747,\n",
       "         'SCAR': 2436,\n",
       "         'SAME': 1625,\n",
       "         'SACO': 1023,\n",
       "         'SUMU': 1066,\n",
       "         'SCPQ': 235,\n",
       "         'SCJO': 259,\n",
       "         'KMCO': 34,\n",
       "         'KJFK': 382,\n",
       "         'SEGU': 422,\n",
       "         'MMUN': 63,\n",
       "         'MDPC': 54,\n",
       "         'KLAX': 155,\n",
       "         'NZAA': 361,\n",
       "         'SCIP': 452,\n",
       "         'SLLP': 209,\n",
       "         'SLVR': 120,\n",
       "         'SBCT': 3,\n",
       "         'SEQM': 2,\n",
       "         'SAZS': 2,\n",
       "         'SAAR': 136,\n",
       "         'KIAD': 1,\n",
       "         'SANT': 38,\n",
       "         'YMML': 39,\n",
       "         'SANU': 35,\n",
       "         'SAZN': 37,\n",
       "         'SPSO': 1,\n",
       "         'SAWH': 6,\n",
       "         'EGYP': 1,\n",
       "         'SULS': 6,\n",
       "         'SLCB': 1})"
      ]
     },
     "execution_count": 11,
     "metadata": {},
     "output_type": "execute_result"
    }
   ],
   "source": [
    "flights_counter = Counter(data.df_latam[\"Des-O\"])\n",
    "flights_counter"
   ]
  },
  {
   "cell_type": "markdown",
   "metadata": {},
   "source": [
    "Del grafico anterior se puede observar que algunos destinos tienen un retraso medio considerablemente mayor al resto. Se debe cuidar observar el número total de viajes para cada destino, por ejemplo, si se observa en el grafico el destino con sigla 'SPSO' existe el riezgo de pensar que este destino es el que mejor cumple con las horas de sus vuelos, cuando en realidad, en los datos filtrados según lo descrito en [1], el destino SPSO solo tiene un vuelo. De todas formas se debe considerar este dato para el entrenamiento del algoritmo de prediccion, pero se debe tener cuidado de las afirmaciones que se obtienen del analisis cualitativo de los datos.\n",
    "Para los destinos EGYP, SEQM, SCLB. Los cuales sobresaltan en el grafico anterior, ninguno supera los 2 vuelos, por ende, son casos aislados y no se considerarán para este análisis cualitativo. Dicho esto, no se aprecia una significativa dependencia de los destinos con los retrasos."
   ]
  },
  {
   "cell_type": "markdown",
   "metadata": {},
   "source": [
    "## Por aerolinea"
   ]
  },
  {
   "cell_type": "code",
   "execution_count": 12,
   "metadata": {},
   "outputs": [
    {
     "data": {
      "image/png": "[encoded data removed]",
      "text/plain": [
       "<Figure size 1440x360 with 1 Axes>"
      ]
     },
     "metadata": {
      "needs_background": "light"
     },
     "output_type": "display_data"
    }
   ],
   "source": [
    "delay_rate_plot(data.df_latam,\"Emp-O\",\"Aerolineas\",\"Tasa de atraso [min]\",\"Tasa de atraso por aerolinea\")"
   ]
  },
  {
   "cell_type": "code",
   "execution_count": 13,
   "metadata": {},
   "outputs": [
    {
     "name": "stdout",
     "output_type": "stream",
     "text": [
      "Counter({'LAN': 20988, 'LXP': 14558, 'SKU': 14298, 'TAM': 3046, 'ARG': 1946, 'CMP': 1850, 'JMR': 1647, 'LPE': 1214, 'JAT': 1095, 'AVA': 885, 'GLO': 806, 'AAL': 757, 'ACA': 565, 'DSM': 493, 'LNE': 374, 'IBE': 362, 'AFR': 358, 'DAL': 358, 'LRC': 357, 'AMX': 351, 'UAL': 335, 'ONE': 279, 'AZA': 259, 'KLM': 251, 'LAP': 219, 'BAW': 205, 'QFA': 195, 'AUT': 77, 'PUE': 49, '56R': 17, '48O': 10, 'TPU': 2})\n"
     ]
    }
   ],
   "source": [
    "flights_counter = Counter(data.df_latam[\"Emp-O\"])\n",
    "print(flights_counter)"
   ]
  },
  {
   "cell_type": "markdown",
   "metadata": {},
   "source": [
    "En el gráfico presentado en esta sección se observa una mayor consistencia en la cantidad de vuelos por aerolinea que por destino, ignorando el caso de la empresa TPU (ya que tiene solo 2 vuelos), se ve que existen ciertas empresas con una mayor tendencia al atraso de sus vuelos. A continuación se muestra la grafica de los datos sin considarar la empresa TPU con la intensión de observar de forma mas clara la diferencia entre los datos sin considerar el dato que puede ser catalogado como ruido para efectos de un analisis cualitativo."
   ]
  },
  {
   "cell_type": "code",
   "execution_count": 14,
   "metadata": {},
   "outputs": [
    {
     "data": {
      "image/png": "[encoded data removed]",
      "text/plain": [
       "<Figure size 1440x360 with 1 Axes>"
      ]
     },
     "metadata": {
      "needs_background": "light"
     },
     "output_type": "display_data"
    }
   ],
   "source": [
    "# Grafica ignorando los datos para TPU\n",
    "delay_rate_plot(data.df_latam,\"Emp-O\",\"Aerolineas\",\"Tasa de atraso [min]\",\"Tasa de atraso por aerolinea\", [\"TPU\"])"
   ]
  },
  {
   "cell_type": "markdown",
   "metadata": {},
   "source": [
    "## Por mes del año"
   ]
  },
  {
   "cell_type": "code",
   "execution_count": 15,
   "metadata": {},
   "outputs": [
    {
     "data": {
      "image/png": "[encoded data removed]",
      "text/plain": [
       "<Figure size 1440x360 with 1 Axes>"
      ]
     },
     "metadata": {
      "needs_background": "light"
     },
     "output_type": "display_data"
    }
   ],
   "source": [
    "delay_rate_plot(data.df,\"Mes-O\",\"Mes\",\"Tasa de atraso [min]\",\"Tasa de atraso por mes\",[],{1:'enero',2:'febrero',3:'marzo',4:'abril',5:'mayo',6:'junio',7:'julio',8:'agosto',9:'septiembre',10:'octubre',11:'noviembre',12:'diciembre'})"
   ]
  },
  {
   "cell_type": "markdown",
   "metadata": {},
   "source": [
    "Respecto a la relacion entre la tasa de retrasos y los meses del año, se puede observar que para los meses entre enero y mayo se mantiene un nivel en la tasa de retrasos. Para los meses comprendidos entre junio y diciembre tambien se observa una tasa de retrasos consistente a excepcion del mes de julio y posiblemente octubre y diciembre."
   ]
  },
  {
   "cell_type": "markdown",
   "metadata": {},
   "source": [
    "## Por dia de la semana"
   ]
  },
  {
   "cell_type": "code",
   "execution_count": 16,
   "metadata": {},
   "outputs": [
    {
     "data": {
      "image/png": "[encoded data removed]",
      "text/plain": [
       "<Figure size 1440x360 with 1 Axes>"
      ]
     },
     "metadata": {
      "needs_background": "light"
     },
     "output_type": "display_data"
    }
   ],
   "source": [
    "delay_rate_plot(data.df_latam,\"DIANOM\",\"Día de la semana\",\"Tasa de atraso [min]\",\"Tasa de atraso por día de la semana\")"
   ]
  },
  {
   "cell_type": "code",
   "execution_count": 17,
   "metadata": {},
   "outputs": [
    {
     "name": "stdout",
     "output_type": "stream",
     "text": [
      "la diferencia porcentual en la tasa de retraso del día Domingo es: -6.625578610663754%\n",
      "la diferencia porcentual en la tasa de retraso del día Jueves es: 1.1877214775479144%\n",
      "la diferencia porcentual en la tasa de retraso del día Lunes es: 7.673196106734887%\n",
      "la diferencia porcentual en la tasa de retraso del día Martes es: -3.144364795155072%\n",
      "la diferencia porcentual en la tasa de retraso del día Miercoles es: -4.184173952829807%\n",
      "la diferencia porcentual en la tasa de retraso del día Sabado es: -2.809045094549772%\n",
      "la diferencia porcentual en la tasa de retraso del día Viernes es: 7.902244868915593%\n"
     ]
    }
   ],
   "source": [
    "for day in keys:\n",
    "    print('la diferencia porcentual en la tasa de retraso del día '+ day +' es: '+ str(get_perc_dif_to_mean(keys,values,day)) + '%')"
   ]
  },
  {
   "cell_type": "markdown",
   "metadata": {},
   "source": [
    "En el gráfico de la presente sección se observa que la tasa de atrasos no presenta mayor variación en función del día de la semana, sin embargo los dias Domingo, Lunes y Viernes se tiene una mayor diferencia en la tasa de atrasos, la cual se puede verificar en el bloque de codigo anterior."
   ]
  },
  {
   "cell_type": "markdown",
   "metadata": {},
   "source": [
    "## Por temporada"
   ]
  },
  {
   "cell_type": "code",
   "execution_count": 20,
   "metadata": {},
   "outputs": [
    {
     "data": {
      "image/png": "[encoded data removed]",
      "text/plain": [
       "<Figure size 1440x360 with 1 Axes>"
      ]
     },
     "metadata": {
      "needs_background": "light"
     },
     "output_type": "display_data"
    }
   ],
   "source": [
    "delay_rate_plot(data.df_latam,\"temporada_alta\",\"Temporada alta [1/0]\",\"Tasa de atraso [min]\",\"Tasa de atraso por Temporada\",[],{1:'1',0:'0'})"
   ]
  },
  {
   "cell_type": "markdown",
   "metadata": {},
   "source": [
    "Se observa una diferencia porcentual del 4% entre la tasa de atraso en temporada baja y alta, siendo esta última mayor."
   ]
  },
  {
   "cell_type": "markdown",
   "metadata": {},
   "source": [
    "## Por tipo de vuelo"
   ]
  },
  {
   "cell_type": "code",
   "execution_count": 22,
   "metadata": {},
   "outputs": [
    {
     "data": {
      "image/png": "[encoded data removed]",
      "text/plain": [
       "<Figure size 1440x360 with 1 Axes>"
      ]
     },
     "metadata": {
      "needs_background": "light"
     },
     "output_type": "display_data"
    }
   ],
   "source": [
    "delay_rate_plot(data.df_latam,\"TIPOVUELO\",\"Tipo de vuelo\",\"Tiempo total de atrasos medio [min]\",\"Tasa de atraso por Tipo de vuelo\", [], {'I':'Internacional','N':'Nacional'})"
   ]
  },
  {
   "cell_type": "markdown",
   "metadata": {},
   "source": [
    "Se aprcia que los vuelos internacionales presentan una tasa de atrasos 28% mayor a los vuelos nacionales. Lo que consiste en una diferencia significativa."
   ]
  },
  {
   "cell_type": "markdown",
   "metadata": {},
   "source": [
    "## Resumen del analisis cualitativo de los datos"
   ]
  },
  {
   "cell_type": "markdown",
   "metadata": {},
   "source": [
    "Producto del análisis expresado en la presente sección y con el objetivo de responder la pregunta \"¿Qué variables esperarías que más influyeran en predecir atrasos?\" es que se propone que las variables que tendrán un mayor impacto en la predicción del atraso de un vuelo son:  Tipo de vuelo, Mes de ocurrencia del vuelo, Aerolinia y Destino. Esto debido a que la tasa de atraso presenta mayor variablilidad para las variables anteriormente mencionadas."
   ]
  },
  {
   "cell_type": "markdown",
   "metadata": {},
   "source": [
    "# Modelamiento"
   ]
  },
  {
   "cell_type": "markdown",
   "metadata": {},
   "source": [
    "## Librerias a utilizarse en el entrenamiento de un modelo predictivo del retraso de los vuelos"
   ]
  },
  {
   "cell_type": "code",
   "execution_count": 24,
   "metadata": {},
   "outputs": [],
   "source": [
    "import numpy as np\n",
    "import pandas as pd\n",
    "import tensorflow as tf\n",
    "from sklearn.model_selection import train_test_split\n",
    "import tensorflow as tf\n",
    "from tensorflow import keras\n",
    "from tensorflow.keras.preprocessing.text import Tokenizer\n",
    "from tensorflow.keras.preprocessing.sequence import pad_sequences\n",
    "from sklearn.svm import SVR\n",
    "from sklearn.metrics import r2_score"
   ]
  },
  {
   "cell_type": "markdown",
   "metadata": {},
   "source": [
    "## Pre- procesamiento de los datos"
   ]
  },
  {
   "cell_type": "code",
   "execution_count": 25,
   "metadata": {},
   "outputs": [],
   "source": [
    "data.pre_processing()"
   ]
  },
  {
   "cell_type": "markdown",
   "metadata": {},
   "source": [
    "Debido a restricciones de plazo es que solo se ocupará la regreción Support Vector Regression (SVR), esto debido a que el SVR es un método robusto para el entrenamiento de un algoritmo de regresión, el cual se basa en el problema de encontrar el hipper-plano(region de un espacio n-dimensional) para el cual se minimiza la distancia a la que se encuentran los puntos que entrenan al algoritmo, dicho de otra forma, el error del mismo. Cuenta con la ventaja de que su implementación es sencilla y existe suficiente información y soporte de la comunidad python cómo para implementarlo rapidamente."
   ]
  },
  {
   "cell_type": "markdown",
   "metadata": {},
   "source": [
    "## Support Vector Regression (SVR)"
   ]
  },
  {
   "cell_type": "code",
   "execution_count": 26,
   "metadata": {},
   "outputs": [],
   "source": [
    "X = data.x_concat\n",
    "y = data.y_data"
   ]
  },
  {
   "cell_type": "code",
   "execution_count": 27,
   "metadata": {},
   "outputs": [],
   "source": [
    "def SVR_regression(test_sizer, randomizer, shuffler, vocab_sizer, max_lenghter):\n",
    "    # test_sizer\n",
    "    # randomizer\n",
    "    # shuffler\n",
    "    # vocab_sizer\n",
    "    # max_lenghter\n",
    "\n",
    "    X_train, X_test, y_train, y_test = train_test_split(X,y, test_size = test_sizer, random_state = randomizer, shuffle = shuffler)\n",
    "    # Tokenizer & Padding hyperparameters\n",
    "    vocab_size = vocab_sizer\n",
    "    oov_tok = '<OOV>'\n",
    "    trunc_type = 'post'\n",
    "    padding_type = 'post'\n",
    "    max_length = max_lenghter\n",
    "    # Tokenization: se tokeniza la muestra con tal de obtener valores numéricos para el entrenamiento del modelo.\n",
    "    tokenizer = Tokenizer(num_words=vocab_size, lower=True, split=' ', char_level=False, oov_token=oov_tok)\n",
    "    tokenizer.fit_on_texts(X_train)\n",
    "    # Decode function\n",
    "    word_index = tokenizer.word_index\n",
    "    reverse_word_index = dict([(v, k) for (k, v) in word_index.items()])\n",
    "    def decode_func(text_padded):\n",
    "        return ' '.join([reverse_word_index.get(i, 'pad') for i in text_padded])\n",
    "    # Tokenization & Padding\n",
    "    train_sequences = tokenizer.texts_to_sequences(X_train)\n",
    "    train_padded = pad_sequences(sequences=train_sequences, maxlen=max_length, padding=padding_type, truncating=trunc_type)\n",
    "    X_test_seq = tokenizer.texts_to_sequences(X_test)\n",
    "    X_test_pad = pad_sequences(X_test_seq, maxlen=max_length, padding=padding_type, truncating=trunc_type)\n",
    "    regressor = SVR(kernel = 'rbf')\n",
    "    regressor.fit(train_padded , y_train)\n",
    "    return regressor, X_test_pad, y_test\n",
    "\n",
    "    \n",
    "    "
   ]
  },
  {
   "cell_type": "code",
   "execution_count": 28,
   "metadata": {},
   "outputs": [],
   "source": [
    "def scatter_plotter(y_test, y_pred):\n",
    "    ## Visualising the SVR results\n",
    "    plt.scatter(y_test, y_pred, color = 'blue')\n",
    "    #plt.plot(y_test, y_pred, color = 'blue')\n",
    "    plt.title('prediction (SVR)')\n",
    "    plt.xlabel('Position level', color='white')\n",
    "    plt.ylabel('Salary')\n",
    "    #plt.annotate(\"r-squared = {:.3f}\".format(r2_score(y_test, y_pred)), (0, 1),color='orange', )\n",
    "    plt.show()"
   ]
  },
  {
   "cell_type": "markdown",
   "metadata": {},
   "source": [
    "A continuación se entrenará el modelo de regresión SVR para distintos porcentajes del tamaño de prueba o test size (porción de los datos de entrenamiento que se reserva para la validación del modelo), además se analizará el efecto de implementar el shuffle (desordenar los datos) de los datos de entrenamiento del modelo."
   ]
  },
  {
   "cell_type": "markdown",
   "metadata": {},
   "source": [
    "## test size = 0.2"
   ]
  },
  {
   "cell_type": "code",
   "execution_count": 29,
   "metadata": {},
   "outputs": [
    {
     "data": {
      "text/plain": [
       "0.46324187730329347"
      ]
     },
     "execution_count": 29,
     "metadata": {},
     "output_type": "execute_result"
    }
   ],
   "source": [
    "SVR_regressor, X_test_pad_1, y_test_1 = SVR_regression(0.2,0,False,5000,100)\n",
    "y_pred = SVR_regressor.predict(X_test_pad_1)\n",
    "r2_score(y_test_1, y_pred)"
   ]
  },
  {
   "cell_type": "code",
   "execution_count": 30,
   "metadata": {},
   "outputs": [
    {
     "data": {
      "image/png": "[encoded data removed]",
      "text/plain": [
       "<Figure size 432x288 with 1 Axes>"
      ]
     },
     "metadata": {
      "needs_background": "light"
     },
     "output_type": "display_data"
    }
   ],
   "source": [
    "scatter_plotter(y_test_1, y_pred)"
   ]
  },
  {
   "cell_type": "code",
   "execution_count": 31,
   "metadata": {},
   "outputs": [
    {
     "data": {
      "text/plain": [
       "0.6521500818467849"
      ]
     },
     "execution_count": 31,
     "metadata": {},
     "output_type": "execute_result"
    }
   ],
   "source": [
    "SVR_regressor, X_test_pad_2, y_test_2 = SVR_regression(0.2,0,True,5000,100)\n",
    "y_pred = SVR_regressor.predict(X_test_pad_2)\n",
    "r2_score(y_test_2, y_pred)"
   ]
  },
  {
   "cell_type": "code",
   "execution_count": 32,
   "metadata": {},
   "outputs": [
    {
     "data": {
      "image/png": "[encoded data removed]",
      "text/plain": [
       "<Figure size 432x288 with 1 Axes>"
      ]
     },
     "metadata": {
      "needs_background": "light"
     },
     "output_type": "display_data"
    }
   ],
   "source": [
    "scatter_plotter(y_test_2, y_pred)"
   ]
  },
  {
   "cell_type": "markdown",
   "metadata": {},
   "source": [
    "## test size = 0.1"
   ]
  },
  {
   "cell_type": "code",
   "execution_count": 33,
   "metadata": {},
   "outputs": [
    {
     "data": {
      "text/plain": [
       "0.6673214835899948"
      ]
     },
     "execution_count": 33,
     "metadata": {},
     "output_type": "execute_result"
    }
   ],
   "source": [
    "SVR_regressor, X_test_pad_3, y_test_3 = SVR_regression(0.1,0,True,5000,100)\n",
    "y_pred = SVR_regressor.predict(X_test_pad_3)\n",
    "r2_score(y_test_3, y_pred)"
   ]
  },
  {
   "cell_type": "code",
   "execution_count": 34,
   "metadata": {},
   "outputs": [
    {
     "data": {
      "image/png": "[encoded data removed]",
      "text/plain": [
       "<Figure size 432x288 with 1 Axes>"
      ]
     },
     "metadata": {
      "needs_background": "light"
     },
     "output_type": "display_data"
    }
   ],
   "source": [
    "scatter_plotter(y_test_3, y_pred)"
   ]
  },
  {
   "cell_type": "code",
   "execution_count": 35,
   "metadata": {},
   "outputs": [
    {
     "data": {
      "text/plain": [
       "0.19842732226066928"
      ]
     },
     "execution_count": 35,
     "metadata": {},
     "output_type": "execute_result"
    }
   ],
   "source": [
    "SVR_regressor, X_test_pad_5, y_test_5 = SVR_regression(0.1,0,False,5000,100)\n",
    "y_pred = SVR_regressor.predict(X_test_pad_5)\n",
    "r2_score(y_test_5, y_pred)"
   ]
  },
  {
   "cell_type": "code",
   "execution_count": 36,
   "metadata": {},
   "outputs": [
    {
     "data": {
      "image/png": "[encoded data removed]",
      "text/plain": [
       "<Figure size 432x288 with 1 Axes>"
      ]
     },
     "metadata": {
      "needs_background": "light"
     },
     "output_type": "display_data"
    }
   ],
   "source": [
    "scatter_plotter(y_test_5, y_pred)"
   ]
  },
  {
   "cell_type": "markdown",
   "metadata": {},
   "source": [
    "## test size = 0.05"
   ]
  },
  {
   "cell_type": "code",
   "execution_count": 37,
   "metadata": {},
   "outputs": [
    {
     "data": {
      "text/plain": [
       "0.6589294711108822"
      ]
     },
     "execution_count": 37,
     "metadata": {},
     "output_type": "execute_result"
    }
   ],
   "source": [
    "SVR_regressor, X_test_pad_4, y_test_4 = SVR_regression(0.05,0,True,5000,100)\n",
    "y_pred = SVR_regressor.predict(X_test_pad_4)\n",
    "r2_score(y_test_4, y_pred)"
   ]
  },
  {
   "cell_type": "code",
   "execution_count": 38,
   "metadata": {},
   "outputs": [
    {
     "data": {
      "image/png": "[encoded data removed]",
      "text/plain": [
       "<Figure size 432x288 with 1 Axes>"
      ]
     },
     "metadata": {
      "needs_background": "light"
     },
     "output_type": "display_data"
    }
   ],
   "source": [
    "scatter_plotter(y_test_4, y_pred)"
   ]
  },
  {
   "cell_type": "markdown",
   "metadata": {},
   "source": [
    "# Analisis y conclusiones"
   ]
  },
  {
   "cell_type": "markdown",
   "metadata": {},
   "source": [
    "Los gráficos de scatter nos permiten visualizar de forma amena la efectividad del modelo. Un modelo que predice perfectamente un suceso logrará un gráfico de scatter con una linea recta y pendiente 45°, por ende, un comportamiento similar a esto será un indicador de la efectividad del modelo. Además se ocupar la métrica de error cuadratico medio (R2) cómo el indicador cuantitativo para calificar la efectividad del modelo. Se ocupará este indicador ya que la utilización del error cuadratico medio (R2) para el ajuste de modelos ha sido ampliamente usada (por ejemplo en el ajuste por mínimos cuadrados en la rama de Análisis numérico) esto debido a su cualidad de retroalimentación de los errores, dicho de otra forma, entre mayor el error, este se trata de mitigar de forma cuadrática.\n",
    "Para un tamaño de prueba del 20% se tiene que al implementar el shuffle de los datos de entrenamiento se aumenta el indicador r2 de ~0.46 a ~0.65, esta tendencia se repite para un tamaño de prueba del 10%, pasando de ~0.2 a ~0.67. Por ende se propone ocupar un shuffle de los datos de entrenamiento. Se observa tambien que el mayor indicador r2 se obtiene al ocupar un tamaño de prueba de 0.1 implementando el shuffle de los datos de entrenamiento. Dentro del contexto de este \"Challenge\" se propone utilizar el modelo anteriormente mencionado, el cual, de los implementados para este documanto, obtuvo el mejor desempeño."
   ]
  },
  {
   "cell_type": "markdown",
   "metadata": {},
   "source": [
    "Para mejorar la predicción del retraso de vuelos se propone:\n",
    "-. Probar con otros tipos de regreciones evaluando la métrica R2 con tal de maximizar la misma.\n",
    "-. Realizar un proceso de optimización multi variada, para esto eligiría un rango para los parámetros del modelo (en el caso de SVR, el tamaño de prueba) y realizaría un barrido discreto con un paso pequeño, con tal de optener el valor mas alto de R2."
   ]
  }
 ],
 "metadata": {
  "kernelspec": {
   "display_name": "Python 3.10.4 64-bit",
   "language": "python",
   "name": "python3"
  },
  "language_info": {
   "codemirror_mode": {
    "name": "ipython",
    "version": 3
   },
   "file_extension": ".py",
   "mimetype": "text/x-python",
   "name": "python",
   "nbconvert_exporter": "python",
   "pygments_lexer": "ipython3",
   "version": "3.10.4"
  },
  "orig_nbformat": 4,
  "vscode": {
   "interpreter": {
    "hash": "d976a6d1a752266c9f4d1fc1a27d9f408c8bbbf2d898b43d394a32e3473ca848"
   }
  }
 },
 "nbformat": 4,
 "nbformat_minor": 2
}
